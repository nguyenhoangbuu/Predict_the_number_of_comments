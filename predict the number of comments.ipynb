{
 "cells": [
  {
   "cell_type": "markdown",
   "metadata": {
    "id": "wsALKyLw3pe1"
   },
   "source": [
    "# All Regression Notebook\n",
    "## Load dữ liệu\n",
    "Khai báo và load thư viện, sau đó load tập dữ liệu. Do tập dữ liệu không chứa tên cột nên chúng ta cần thêm nó vào bằng cách sử dụng list Python thủ công. \n",
    "\n",
    "Chúng ta có `all_train_data` và `all_test_data` đã được nối vào `DataFrame` tương ứng."
   ]
  },
  {
   "cell_type": "code",
   "execution_count": 1,
   "metadata": {
    "id": "KsgMGTek3pe2",
    "outputId": "f4c06348-430e-4ed2-f8b4-816a9a626f29"
   },
   "outputs": [
    {
     "name": "stdout",
     "output_type": "stream",
     "text": [
      "Train sets size: 2211246\n",
      "Train sets size: 4390848\n",
      "Train sets size: 6539292\n",
      "Train sets size: 8662896\n",
      "Train sets size: 10747620\n",
      "Index(['Popularity', 'Check-in', 'Activities', 'Category', 'F_1', 'F_2', 'F_3',\n",
      "       'F_4', 'F_5', 'F_6', 'F_7', 'F_8', 'F_9', 'F_10', 'F_11', 'F_12',\n",
      "       'F_13', 'F_14', 'F_15', 'F_16', 'F_17', 'F_18', 'F_19', 'F_20', 'F_21',\n",
      "       'F_22', 'F_23', 'F_24', 'F_25', 'CC1', 'CC2', 'CC3', 'CC4', 'CC5',\n",
      "       'Base time', 'Post length', 'Post count', 'Post promotion', 'Span time',\n",
      "       'Post_date_1', 'Post_date_2', 'Post_date_3', 'Post_date_4',\n",
      "       'Post_date_5', 'Post_date_6', 'Post_date_7', 'Base_date_1',\n",
      "       'Base_date_2', 'Base_date_3', 'Base_date_4', 'Base_date_5',\n",
      "       'Base_date_6', 'Base_date_7', 'Span count', 'bias'],\n",
      "      dtype='object')\n"
     ]
    }
   ],
   "source": [
    "import pandas\n",
    "import numpy as np\n",
    "import matplotlib.pyplot as plt\n",
    "%matplotlib inline\n",
    "\n",
    "columns_name = [\"Popularity\", \"Check-in\", \"Activities\", \"Category\"] \\\n",
    "            + [\"F_{:d}\".format(i) for i in range(1, 26)] \\\n",
    "            + [\"CC{:d}\".format(i) for i in range(1, 6)] \\\n",
    "            + [\"Base time\", \"Post length\", \"Post count\", \"Post promotion\", \"Span time\"] \\\n",
    "            + [\"Post_date_{:d}\".format(i) for i in range(1, 8)] \\\n",
    "            + [\"Base_date_{:d}\".format(i) for i in range(1, 8)] \\\n",
    "            + [\"Span count\"]\n",
    "all_train_data = [pandas.read_csv(\"Dataset/Training/Features_Variant_{:d}.csv\".format(d), header=None) for d in range(1, 6)]\n",
    "\n",
    "for data in all_train_data:\n",
    "    print(\"Train sets size: {:d}\".format(data.size))\n",
    "# Viết code nối dữ liệu huấn luyện\n",
    "train_data=pandas.concat(all_train_data,ignore_index=True)\n",
    "train_data.columns = columns_name\n",
    "\n",
    "all_test_data = [pandas.read_csv(\"Dataset/Testing/TestSet/Test_Case_{:d}.csv\".format(d), header=None) for d in range(1, 10)]\n",
    "# Viết code nối dữ liệu kiểm tra\n",
    "test_data=pandas.concat(all_test_data,ignore_index=True)\n",
    "test_data.columns = columns_name\n",
    "\n",
    "train_data[\"bias\"] = 1\n",
    "test_data[\"bias\"] = 1\n",
    "print(train_data.columns)\n"
   ]
  },
  {
   "cell_type": "markdown",
   "metadata": {
    "id": "gDfCdXgd3pe_"
   },
   "source": [
    "## Lựa chọn hạng mục phụ\n",
    "Cột Category chứa các index bất kỳ của hạng mục dữ liệu liên quan tới bản chất của chính bài đăng. Để đơn giản, chúng ta sẽ sử dụng hạng mục có lượng dữ liệu lớn nhất để thực hiện Hồi quy Tuyến tính.\n",
    "\n",
    "Tìm và lựa chọn hạng mục có nhiều bản ghi nhất sử dụng pandas. Lưu nó trong biến `largest_category`"
   ]
  },
  {
   "cell_type": "code",
   "execution_count": 2,
   "metadata": {
    "id": "ZRlw6ulC3pfB"
   },
   "outputs": [],
   "source": [
    "# Viết code ở đây:\n",
    "group_category=train_data.groupby(['Category']).size()\n",
    "largest_category=group_category[group_category==(max(group_category))].index[0]\n",
    "\n"
   ]
  },
  {
   "cell_type": "code",
   "execution_count": 3,
   "metadata": {
    "id": "2yBrJGjv3pfH"
   },
   "outputs": [],
   "source": [
    "# Phân hạng các mô hình\n",
    "train_data = train_data.loc[train_data['Category'] == largest_category].drop('Category', axis=1)\n",
    "test_data = test_data.loc[test_data['Category'] == largest_category].drop('Category', axis=1)\n",
    "label = \"Span count\"\n",
    "features = [col for col in train_data.columns if col != label]\n",
    "train_features = train_data[ features ]\n",
    "train_labels = train_data[ label ]\n",
    "test_features = test_data[ features ]\n",
    "test_labels = test_data[ label ]"
   ]
  },
  {
   "cell_type": "markdown",
   "metadata": {
    "id": "luuprw_n3pfM"
   },
   "source": [
    "## Tương quan cơ bản\n",
    "Chúng ta sẽ vẽ ma trận tương quan giữa các biến CC. Tương quan rất hữu ích để xem liệu các đặc trưng có kết nối quá chặt chẽ không -  chúng ta không muốn chúng cùng nhau vì chúng sẽ tạo ra nhiễu giả gây overfit mô hình."
   ]
  },
  {
   "cell_type": "code",
   "execution_count": 4,
   "metadata": {
    "id": "B_FBwjw03pfO",
    "outputId": "4517d7d7-ecf0-45a3-9b04-a51585620d97"
   },
   "outputs": [
    {
     "data": {
      "image/png": "[encoded data removed]",
      "text/plain": [
       "<Figure size 432x288 with 1 Axes>"
      ]
     },
     "metadata": {
      "needs_background": "light"
     },
     "output_type": "display_data"
    }
   ],
   "source": [
    "# Viết code ở đây:\n",
    "corr=train_data[[\"CC1\",\"CC2\",\"CC3\",\"CC4\",\"CC5\"]].corr()\n",
    "fig, ax = plt.subplots()\n",
    "im = ax.matshow(corr.values)\n",
    "for (i, j), z in np.ndenumerate(corr.values):\n",
    "    ax.text(j, i, '{:0.2f}'.format(z), ha='center', va='center')\n",
    "plt.xticks(range(train_data[[\"CC1\",\"CC2\",\"CC3\",\"CC4\",\"CC5\"]].shape[1]), train_data[[\"CC1\",\"CC2\",\"CC3\",\"CC4\",\"CC5\"]].columns, fontsize=14, rotation=45)\n",
    "plt.yticks(range(train_data[[\"CC1\",\"CC2\",\"CC3\",\"CC4\",\"CC5\"]].shape[1]), train_data[[\"CC1\",\"CC2\",\"CC3\",\"CC4\",\"CC5\"]].columns, fontsize=14)\n",
    "plt.show()\n"
   ]
  },
  {
   "cell_type": "markdown",
   "metadata": {
    "id": "U7g4fYvJ3pfU"
   },
   "source": [
    "## Xây dựng mô hình Hồi quy\n",
    "\n",
    "__Nhiệm vụ của chúng ta là dự đoán số lượng bình luận bài đăng sẽ nhận được (cột \"Span count\")__ <br>\n",
    "\"Span time\" thì cần thiết trong khi tất cả các cột khác tùy chọn. <br>\n",
    "Thử mô hình Hồi quy đa biến đơn giản chỉ có các đặc trưng cơ bản: <br>\n",
    "[\"Popularity\", \"Base time\", \"Post length\", \"Post count\", \"Span time\", \"bias\"]. <br>\n",
    "\n",
    "In ra hệ số MSE từ sklearn hoặc RSS từ khóa học cho cả tập huấn luyện và tập kiểm tra."
   ]
  },
  {
   "cell_type": "code",
   "execution_count": 5,
   "metadata": {
    "id": "wawBZN663pfV"
   },
   "outputs": [
    {
     "name": "stdout",
     "output_type": "stream",
     "text": [
      "1689.5665198601353\n",
      "5340.589651600898\n"
     ]
    }
   ],
   "source": [
    "# Viết code ở đây:\n",
    "train_features1=train_features[[\"Popularity\", \"Base time\", \"Post length\", \"Post count\", \"Span time\", \"bias\"]].values\n",
    "train_labels1=train_labels.values\n",
    "test_features1=test_features[[\"Popularity\", \"Base time\", \"Post length\", \"Post count\", \"Span time\", \"bias\"]].values\n",
    "test_labels1=test_labels.values\n",
    "from sklearn.linear_model import LinearRegression\n",
    "from sklearn.metrics import mean_squared_error\n",
    "model1=LinearRegression().fit(train_features1,train_labels1)\n",
    "print(mean_squared_error(model1.predict(train_features1),train_labels1))\n",
    "print(mean_squared_error(model1.predict(test_features1),test_labels1))\n",
    "\n",
    "\n"
   ]
  },
  {
   "cell_type": "markdown",
   "metadata": {
    "id": "wQpTJVPA3pfb"
   },
   "source": [
    "### Hãy thử cải thiện với nhiều đặc trưng hơn\n",
    "Không phải mô hình tốt nhất chúng ta có thể sử dụng. Chúng ta có thể thử thêm nhiều đặc trưng liên quan. <br>Nối tất cả các thuộc tính CC vào các đặc trưng và thử lại với cùng số liệu."
   ]
  },
  {
   "cell_type": "code",
   "execution_count": 6,
   "metadata": {
    "id": "pgRc-PxW3pfc"
   },
   "outputs": [
    {
     "name": "stdout",
     "output_type": "stream",
     "text": [
      "1535.0187590146174\n",
      "3878.5320956240835\n"
     ]
    }
   ],
   "source": [
    "# Viết code ở đây:\n",
    "train_features2=train_features[[\"Popularity\", \"Base time\", \"Post length\", \"Post count\", \"Span time\", \"bias\",\"CC1\",\"CC2\",\"CC3\",\"CC4\",\"CC5\"]].values\n",
    "train_labels2=train_labels.values\n",
    "test_features2=test_features[[\"Popularity\", \"Base time\", \"Post length\", \"Post count\", \"Span time\", \"bias\",\"CC1\",\"CC2\",\"CC3\",\"CC4\",\"CC5\"]].values\n",
    "test_labels2=test_labels.values\n",
    "model2=LinearRegression().fit(train_features2,train_labels2)\n",
    "print(mean_squared_error(model2.predict(train_features2),train_labels2))\n",
    "print(mean_squared_error(model2.predict(test_features2),test_labels2))\n"
   ]
  },
  {
   "cell_type": "markdown",
   "metadata": {
    "id": "bxjlSr703pfi"
   },
   "source": [
    "Bài học rút ra: Tối ưu hóa sớm hiếm khi hữu ích. \n",
    "\n",
    "## Giải quyết overfit\n",
    "### Áp dụng cách giải cho overfit\n",
    "\n",
    "Sự khác biệt về hệ số huấn luyện và kiểm tra chỉ ra mô hình có thể overfitting. Hãy thử sửa chữa. Mở rộng hồi quy [RidgeCV](https://scikit-learn.org/stable/modules/generated/sklearn.linear_model.RidgeCV.html) (cv = 10) với alpha dọc theo logspace giữa 0 và 10, ghi nhận giá trị có chất lượng tốt nhất thành biến `best_alpha`, và *có thể tùy chọn vẽ một đồ thị cho độ lớn của các hệ số*."
   ]
  },
  {
   "cell_type": "code",
   "execution_count": 36,
   "metadata": {
    "id": "OVv4BUUP3pfk"
   },
   "outputs": [
    {
     "name": "stderr",
     "output_type": "stream",
     "text": [
      "c:\\users\\buu\\appdata\\local\\programs\\python\\python37\\lib\\site-packages\\sklearn\\linear_model\\_ridge.py:156: LinAlgWarning: Ill-conditioned matrix (rcond=1.55904e-18): result may not be accurate.\n",
      "  return linalg.solve(A, Xy, sym_pos=True, overwrite_a=True).T\n",
      "c:\\users\\buu\\appdata\\local\\programs\\python\\python37\\lib\\site-packages\\sklearn\\linear_model\\_ridge.py:156: LinAlgWarning: Ill-conditioned matrix (rcond=1.60312e-18): result may not be accurate.\n",
      "  return linalg.solve(A, Xy, sym_pos=True, overwrite_a=True).T\n",
      "c:\\users\\buu\\appdata\\local\\programs\\python\\python37\\lib\\site-packages\\sklearn\\linear_model\\_ridge.py:156: LinAlgWarning: Ill-conditioned matrix (rcond=1.51454e-18): result may not be accurate.\n",
      "  return linalg.solve(A, Xy, sym_pos=True, overwrite_a=True).T\n",
      "c:\\users\\buu\\appdata\\local\\programs\\python\\python37\\lib\\site-packages\\sklearn\\linear_model\\_ridge.py:156: LinAlgWarning: Ill-conditioned matrix (rcond=1.65105e-18): result may not be accurate.\n",
      "  return linalg.solve(A, Xy, sym_pos=True, overwrite_a=True).T\n",
      "c:\\users\\buu\\appdata\\local\\programs\\python\\python37\\lib\\site-packages\\sklearn\\linear_model\\_ridge.py:156: LinAlgWarning: Ill-conditioned matrix (rcond=1.51505e-18): result may not be accurate.\n",
      "  return linalg.solve(A, Xy, sym_pos=True, overwrite_a=True).T\n",
      "c:\\users\\buu\\appdata\\local\\programs\\python\\python37\\lib\\site-packages\\sklearn\\linear_model\\_ridge.py:156: LinAlgWarning: Ill-conditioned matrix (rcond=1.54168e-18): result may not be accurate.\n",
      "  return linalg.solve(A, Xy, sym_pos=True, overwrite_a=True).T\n",
      "c:\\users\\buu\\appdata\\local\\programs\\python\\python37\\lib\\site-packages\\sklearn\\linear_model\\_ridge.py:156: LinAlgWarning: Ill-conditioned matrix (rcond=1.6804e-18): result may not be accurate.\n",
      "  return linalg.solve(A, Xy, sym_pos=True, overwrite_a=True).T\n",
      "c:\\users\\buu\\appdata\\local\\programs\\python\\python37\\lib\\site-packages\\sklearn\\linear_model\\_ridge.py:156: LinAlgWarning: Ill-conditioned matrix (rcond=1.50817e-18): result may not be accurate.\n",
      "  return linalg.solve(A, Xy, sym_pos=True, overwrite_a=True).T\n",
      "c:\\users\\buu\\appdata\\local\\programs\\python\\python37\\lib\\site-packages\\sklearn\\linear_model\\_ridge.py:156: LinAlgWarning: Ill-conditioned matrix (rcond=1.5606e-18): result may not be accurate.\n",
      "  return linalg.solve(A, Xy, sym_pos=True, overwrite_a=True).T\n",
      "c:\\users\\buu\\appdata\\local\\programs\\python\\python37\\lib\\site-packages\\sklearn\\linear_model\\_ridge.py:156: LinAlgWarning: Ill-conditioned matrix (rcond=1.70138e-18): result may not be accurate.\n",
      "  return linalg.solve(A, Xy, sym_pos=True, overwrite_a=True).T\n",
      "c:\\users\\buu\\appdata\\local\\programs\\python\\python37\\lib\\site-packages\\sklearn\\linear_model\\_ridge.py:156: LinAlgWarning: Ill-conditioned matrix (rcond=1.55904e-17): result may not be accurate.\n",
      "  return linalg.solve(A, Xy, sym_pos=True, overwrite_a=True).T\n",
      "c:\\users\\buu\\appdata\\local\\programs\\python\\python37\\lib\\site-packages\\sklearn\\linear_model\\_ridge.py:156: LinAlgWarning: Ill-conditioned matrix (rcond=1.60312e-17): result may not be accurate.\n",
      "  return linalg.solve(A, Xy, sym_pos=True, overwrite_a=True).T\n",
      "c:\\users\\buu\\appdata\\local\\programs\\python\\python37\\lib\\site-packages\\sklearn\\linear_model\\_ridge.py:156: LinAlgWarning: Ill-conditioned matrix (rcond=1.51454e-17): result may not be accurate.\n",
      "  return linalg.solve(A, Xy, sym_pos=True, overwrite_a=True).T\n",
      "c:\\users\\buu\\appdata\\local\\programs\\python\\python37\\lib\\site-packages\\sklearn\\linear_model\\_ridge.py:156: LinAlgWarning: Ill-conditioned matrix (rcond=1.65105e-17): result may not be accurate.\n",
      "  return linalg.solve(A, Xy, sym_pos=True, overwrite_a=True).T\n",
      "c:\\users\\buu\\appdata\\local\\programs\\python\\python37\\lib\\site-packages\\sklearn\\linear_model\\_ridge.py:156: LinAlgWarning: Ill-conditioned matrix (rcond=1.51505e-17): result may not be accurate.\n",
      "  return linalg.solve(A, Xy, sym_pos=True, overwrite_a=True).T\n",
      "c:\\users\\buu\\appdata\\local\\programs\\python\\python37\\lib\\site-packages\\sklearn\\linear_model\\_ridge.py:156: LinAlgWarning: Ill-conditioned matrix (rcond=1.54168e-17): result may not be accurate.\n",
      "  return linalg.solve(A, Xy, sym_pos=True, overwrite_a=True).T\n",
      "c:\\users\\buu\\appdata\\local\\programs\\python\\python37\\lib\\site-packages\\sklearn\\linear_model\\_ridge.py:156: LinAlgWarning: Ill-conditioned matrix (rcond=1.6804e-17): result may not be accurate.\n",
      "  return linalg.solve(A, Xy, sym_pos=True, overwrite_a=True).T\n",
      "c:\\users\\buu\\appdata\\local\\programs\\python\\python37\\lib\\site-packages\\sklearn\\linear_model\\_ridge.py:156: LinAlgWarning: Ill-conditioned matrix (rcond=1.50817e-17): result may not be accurate.\n",
      "  return linalg.solve(A, Xy, sym_pos=True, overwrite_a=True).T\n",
      "c:\\users\\buu\\appdata\\local\\programs\\python\\python37\\lib\\site-packages\\sklearn\\linear_model\\_ridge.py:156: LinAlgWarning: Ill-conditioned matrix (rcond=1.5606e-17): result may not be accurate.\n",
      "  return linalg.solve(A, Xy, sym_pos=True, overwrite_a=True).T\n",
      "c:\\users\\buu\\appdata\\local\\programs\\python\\python37\\lib\\site-packages\\sklearn\\linear_model\\_ridge.py:156: LinAlgWarning: Ill-conditioned matrix (rcond=1.70138e-17): result may not be accurate.\n",
      "  return linalg.solve(A, Xy, sym_pos=True, overwrite_a=True).T\n"
     ]
    },
    {
     "name": "stdout",
     "output_type": "stream",
     "text": [
      "1000000.0\n",
      "1535.1869678391133\n",
      "3914.1018540245636\n"
     ]
    },
    {
     "name": "stderr",
     "output_type": "stream",
     "text": [
      "c:\\users\\buu\\appdata\\local\\programs\\python\\python37\\lib\\site-packages\\sklearn\\linear_model\\_ridge.py:156: LinAlgWarning: Ill-conditioned matrix (rcond=1.42216e-18): result may not be accurate.\n",
      "  return linalg.solve(A, Xy, sym_pos=True, overwrite_a=True).T\n",
      "c:\\users\\buu\\appdata\\local\\programs\\python\\python37\\lib\\site-packages\\sklearn\\linear_model\\_ridge.py:156: LinAlgWarning: Ill-conditioned matrix (rcond=1.42216e-17): result may not be accurate.\n",
      "  return linalg.solve(A, Xy, sym_pos=True, overwrite_a=True).T\n"
     ]
    },
    {
     "data": {
      "text/plain": [
       "<matplotlib.legend.Legend at 0x21613f8ed30>"
      ]
     },
     "execution_count": 36,
     "metadata": {},
     "output_type": "execute_result"
    },
    {
     "data": {
      "image/png": "[encoded data removed]",
      "text/plain": [
       "<Figure size 432x288 with 1 Axes>"
      ]
     },
     "metadata": {
      "needs_background": "light"
     },
     "output_type": "display_data"
    },
    {
     "data": {
      "image/png": "[encoded data removed]",
      "text/plain": [
       "<Figure size 432x288 with 1 Axes>"
      ]
     },
     "metadata": {
      "needs_background": "light"
     },
     "output_type": "display_data"
    }
   ],
   "source": [
    "# Viết code ở đây:\n",
    "alphas=np.logspace(0,10,11)\n",
    "from sklearn.linear_model import RidgeCV\n",
    "from sklearn.linear_model import Ridge\n",
    "model3=RidgeCV(alphas=alphas,cv=10).fit(train_features2,train_labels2)\n",
    "best_alpha=model3.alpha_\n",
    "print(best_alpha)\n",
    "print(mean_squared_error(model3.predict(train_features2),train_labels2))\n",
    "print(mean_squared_error(model3.predict(test_features2),test_labels2))\n",
    "mse=[]\n",
    "df = pandas.DataFrame()\n",
    "for i in range(len(alphas)):\n",
    "    name='model'+str(i)\n",
    "    model=Ridge(alpha=alphas[i]).fit(train_features2,train_labels2)\n",
    "    mse.append(mean_squared_error(model.predict(test_features2),test_labels2))\n",
    "    df[name]=model.coef_\n",
    "\n",
    "fig,ax =plt.subplots()\n",
    "ax.set_xscale('log')\n",
    "ax.plot(alphas,mse)\n",
    "\n",
    "fig,ax=plt.subplots()\n",
    "ax.set_xscale('log')\n",
    "#ax.set_yscale('log')\n",
    "for i in range(len(alphas)):\n",
    "    ax.plot(alphas,df.iloc[i],label=i)\n",
    "ax.legend(loc='center left', bbox_to_anchor=(1, 0.5))\n"
   ]
  },
  {
   "cell_type": "markdown",
   "metadata": {
    "id": "b1EfkDro3pfq"
   },
   "source": [
    "### Thử Hồi quy RidgeCV trên mọi cột\n",
    "Nó đã hoạt động, nhưng chúng ta cần tự hỏi liệu có tiếp tục sử dụng tập đặc trưng không hoàn thiện thay vì một tập hợp tối ưu nữa không. Mở rộng các đặc trưng cho tất cả các cột trừ nhãn được chỉ định. Hãy chạy và xem điều gì sẽ xảy ra."
   ]
  },
  {
   "cell_type": "code",
   "execution_count": 41,
   "metadata": {
    "id": "wN4A7SLx3pfr",
    "outputId": "b1a5f1ad-b985-4106-ddf3-b5a97f800e53"
   },
   "outputs": [
    {
     "name": "stdout",
     "output_type": "stream",
     "text": [
      "MSE on training: 1512.2733; MSE on test: 3928.3796\n"
     ]
    }
   ],
   "source": [
    "# Viết code ở đây:\n",
    "from sklearn.preprocessing import StandardScaler\n",
    "label =\"Span count\"\n",
    "features = [col for col in train_data.columns if col != label]\n",
    "\n",
    "train_features = train_data[features]\n",
    "train_labels = train_data[label]\n",
    "test_features = test_data[features]\n",
    "test_labels = test_data[label]\n",
    "\n",
    "scaler=StandardScaler()\n",
    "train_features = scaler.fit_transform(train_features)\n",
    "test_features = scaler.transform(test_features)\n",
    "\n",
    "multi_model = RidgeCV(alphas=alphas,cv=10)\n",
    "multi_model.fit(train_features, train_labels)\n",
    "test_predictions = multi_model.predict(test_features)\n",
    "\n",
    "test_mse_score = mean_squared_error(test_predictions, test_labels)\n",
    "train_mse_score = mean_squared_error(train_labels, multi_model.predict(train_features))\n",
    "print(\"MSE on training: {:.4f}; MSE on test: {:.4f}\".format(train_mse_score, test_mse_score))"
   ]
  },
  {
   "cell_type": "markdown",
   "metadata": {
    "id": "a4BoQx053pfx"
   },
   "source": [
    "## Lựa chọn đặc trưng\n",
    "### Áp dụng LASSO\n",
    "Chúng ta có thể cắt tỉa các đặc trưng sử dụng những gì đã học. Lần này sẽ ghi lại các đặc trưng đã chọn của [LassoCV](https://scikit-learn.org/stable/modules/generated/sklearn.linear_model.LassoCV.html) (cv = 10) sử dụng biến `lasso_selected_features`, và <i>có thể tùy chọn vẽ một đồ thị giữa số lượng đặc trưng đã loại và các giá trị alpha</i>."
   ]
  },
  {
   "cell_type": "code",
   "execution_count": 47,
   "metadata": {
    "id": "ZBiQAzNu3pfy"
   },
   "outputs": [
    {
     "name": "stdout",
     "output_type": "stream",
     "text": [
      "[ 0.         -0.          0.         -0.          0.          0.\n",
      "  0.          0.55654067 -0.          0.          0.65372882  2.36650699\n",
      "  0.         -0.          0.          0.          0.79585017  0.\n",
      " -0.          0.          0.          0.          0.         -0.\n",
      "  0.          0.         -0.          0.         -0.          8.91023334\n",
      " -0.         -0.          4.74558256 -8.53459785 -0.          6.99421984\n",
      "  0.          0.         -0.         -0.          0.         -0.\n",
      " -0.          0.          0.          0.         -0.          0.\n",
      "  0.         -0.         -0.          0.          0.        ]\n",
      "['F_5', 'F_8', 'F_9', 'F_14', 'CC2', 'CC5', 'Base time', 'Post count']\n"
     ]
    },
    {
     "data": {
      "text/plain": [
       "[<matplotlib.lines.Line2D at 0x2161435b908>]"
      ]
     },
     "execution_count": 47,
     "metadata": {},
     "output_type": "execute_result"
    },
    {
     "data": {
      "image/png": "[encoded data removed]",
      "text/plain": [
       "<Figure size 432x288 with 1 Axes>"
      ]
     },
     "metadata": {
      "needs_background": "light"
     },
     "output_type": "display_data"
    }
   ],
   "source": [
    "# Viết code ở đây:\n",
    "from sklearn.linear_model import LassoCV\n",
    "from sklearn.linear_model import Lasso\n",
    "model4=LassoCV(alphas=alphas,cv=5).fit(train_features,train_labels)\n",
    "print(model4.coef_)\n",
    "lasso_selected_features=list(np.array(features)[model4.coef_!=0])\n",
    "\n",
    "print(lasso_selected_features)\n",
    "features_null=[]\n",
    "for i in range(len(alphas)):\n",
    "    model=Lasso(alpha=alphas[i]).fit(train_features,train_labels)\n",
    "    features_null.append(len(np.array(features)[model.coef_==0]))\n",
    "\n",
    "fig,ax =plt.subplots()\n",
    "ax.set_xscale('log')\n",
    "ax.plot(alphas,features_null) \n"
   ]
  },
  {
   "cell_type": "markdown",
   "metadata": {
    "id": "7-alhAu13pf4"
   },
   "source": [
    "### Xây dựng mô hình chặt chẽ hơn với các đặc trưng đã chọn\n",
    "Khi thực hiện lựa chọn đặc trưng, chúng ta có thể sẽ phải thêm lại độ chệch vào list các đặc trưng. Hãy sử dụng các đặc trưng đã chọn để xây dựng mô hình và tính toán chất lượng dựa trên các chỉ số."
   ]
  },
  {
   "cell_type": "code",
   "execution_count": 49,
   "metadata": {
    "id": "lTLBNiVL3pf5"
   },
   "outputs": [],
   "source": [
    "if(\"bias\" not in lasso_selected_features):\n",
    "    lasso_selected_features.append('bias')\n"
   ]
  },
  {
   "cell_type": "code",
   "execution_count": 56,
   "metadata": {
    "id": "SLNyIeow4D0t"
   },
   "outputs": [
    {
     "name": "stdout",
     "output_type": "stream",
     "text": [
      "4072.3628017916612\n"
     ]
    }
   ],
   "source": [
    "# Viết code ở đây:\n",
    "train_features = train_data[lasso_selected_features]\n",
    "train_labels = train_data[label]\n",
    "test_features = test_data[lasso_selected_features]\n",
    "test_labels = test_data[label]\n",
    "\n",
    "scaler1=StandardScaler()\n",
    "train_features =scaler1.fit_transform(train_features)\n",
    "test_features = scaler1.transform(test_features)\n",
    "\n",
    "model5=LassoCV(alphas=alphas,cv=5).fit(train_features,train_labels)\n",
    "\n",
    "print(mean_squared_error(model5.predict(test_features),test_labels))"
   ]
  },
  {
   "cell_type": "markdown",
   "metadata": {
    "id": "IPCIEyCG3pf-"
   },
   "source": [
    "## Kết hợp mọi thứ trên một mô hình\n",
    "LASSO đã thực hiện rất tốt, thu nhỏ các đặc trưng nhiễu và không cần thiết, tăng tốc độ tính toán. Bây giờ hãy kết hợp cả 2 kỹ thuật trước đó vào cùng một mô hình."
   ]
  },
  {
   "cell_type": "code",
   "execution_count": 57,
   "metadata": {
    "id": "RH6S9qpP3pf_"
   },
   "outputs": [
    {
     "name": "stdout",
     "output_type": "stream",
     "text": [
      "MSE on training: 1519.5080; MSE on test: 4109.2505\n"
     ]
    }
   ],
   "source": [
    "# Viết code ở đây:\n",
    "multi_model = RidgeCV(alphas=alphas,cv=10)\n",
    "multi_model.fit(train_features, train_labels)\n",
    "test_predictions = multi_model.predict(test_features)\n",
    "\n",
    "test_mse_score = mean_squared_error(test_predictions, test_labels)\n",
    "train_mse_score = mean_squared_error(train_labels, multi_model.predict(train_features))\n",
    "print(\"MSE on training: {:.4f}; MSE on test: {:.4f}\".format(train_mse_score, test_mse_score))\n",
    "\n"
   ]
  },
  {
   "cell_type": "markdown",
   "metadata": {
    "id": "GPKAOxhp3pgD"
   },
   "source": [
    "### Phân phối sai số bình phương\n",
    "Chúng ta hãy đưa ra kết luận; lưu ý thêm, hãy quan sát cách các sai số bình phương được phân phối."
   ]
  },
  {
   "cell_type": "code",
   "execution_count": 58,
   "metadata": {
    "id": "ve-GpGS13pgE",
    "outputId": "39ff9df1-cf8b-4cc8-9ec0-f5704d239b0f"
   },
   "outputs": [
    {
     "data": {
      "image/png": "[encoded data removed]",
      "text/plain": [
       "<Figure size 432x288 with 2 Axes>"
      ]
     },
     "metadata": {
      "needs_background": "light"
     },
     "output_type": "display_data"
    }
   ],
   "source": [
    "train_square_errors = np.log( (train_labels - multi_model.predict(train_features)) ** 2 )\n",
    "test_square_errors = np.log( (test_labels - test_predictions) ** 2 )\n",
    "fig, (train_ax, test_ax) = plt.subplots(ncols=2, sharey=True)\n",
    "train_ax.hist(train_square_errors, bins=20, density=True)\n",
    "train_ax.set_xlabel(\"Train error (log)\")\n",
    "test_ax.set_xlabel(\"Test error (log)\")\n",
    "test_ax.hist(test_square_errors, bins=20, density=True)\n",
    "plt.show()"
   ]
  },
  {
   "cell_type": "code",
   "execution_count": null,
   "metadata": {
    "id": "dO2F92sB3pgK"
   },
   "outputs": [],
   "source": []
  },
  {
   "cell_type": "code",
   "execution_count": null,
   "metadata": {},
   "outputs": [],
   "source": []
  },
  {
   "cell_type": "code",
   "execution_count": null,
   "metadata": {},
   "outputs": [],
   "source": []
  }
 ],
 "metadata": {
  "colab": {
   "collapsed_sections": [],
   "name": "asm1.ipynb",
   "provenance": []
  },
  "kernelspec": {
   "display_name": "Python 3 (ipykernel)",
   "language": "python",
   "name": "python3"
  },
  "language_info": {
   "codemirror_mode": {
    "name": "ipython",
    "version": 3
   },
   "file_extension": ".py",
   "mimetype": "text/x-python",
   "name": "python",
   "nbconvert_exporter": "python",
   "pygments_lexer": "ipython3",
   "version": "3.11.3"
  }
 },
 "nbformat": 4,
 "nbformat_minor": 1
}
